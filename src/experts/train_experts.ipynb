{
 "cells": [
  {
   "cell_type": "code",
   "execution_count": null,
   "metadata": {},
   "outputs": [],
   "source": [
    "import gym # my version 0.18.0\n",
    "from stable_baselines3 import PPO, SAC # my version2.3.2\n",
    "# import argparse\n",
    "import sys\n",
    "\n",
    "import os\n",
    "sys.path.append(os.path.abspath(os.path.join(os.getcwd(), '..')))\n",
    "from lunar_lander_env import LunarLanderContinuous\n"
   ]
  },
  {
   "cell_type": "code",
   "execution_count": null,
   "metadata": {},
   "outputs": [],
   "source": [
    "env = LunarLanderContinuous(confounding=False, fixed_terrain=False, sigma=0)\n",
    "model = PPO('MlpPolicy',env, verbose=1, policy_kwargs=dict(net_arch=[256, 256]))\n",
    "for j in range(6):\n",
    "     if j > 0:\n",
    "          model.learn(total_timesteps=100000)\n",
    "     env.sigma += 0.1\n",
    "model.save(\"./ll_expert_curr\")"
   ]
  },
  {
   "cell_type": "code",
   "execution_count": null,
   "metadata": {},
   "outputs": [],
   "source": [
    "import os\n",
    "os.add_dll_directory(\"C://Users//admin_lan//.mujoco//mjpro150//bin\")\n",
    "os.add_dll_directory(\"C://Users//admin_lan//.mujoco//mujoco-py-1.50.1.0//mujoco_py\")\n",
    "import mujoco_py\n",
    "import gym\n",
    "env = gym.make(\"HalfCheetah-v2\")\n",
    "model = SAC('MlpPolicy', env, verbose=1,\n",
    "               buffer_size=300000, batch_size=256, gamma=0.98, tau=0.02,\n",
    "               train_freq=64, gradient_steps=64, ent_coef='auto', learning_rate=7.3e-4, \n",
    "               learning_starts=10000, policy_kwargs=dict(net_arch=[256, 256], log_std_init=-3),\n",
    "               use_sde=True)\n",
    "model.learn(total_timesteps=1e6)\n",
    "model.save(\"./halfcheetah_expert\")"
   ]
  },
  {
   "cell_type": "code",
   "execution_count": null,
   "metadata": {},
   "outputs": [],
   "source": [
    "import pybullet_envs\n",
    "env = gym.make(\"AntBulletEnv-v0\")\n",
    "model = SAC('MlpPolicy', env, verbose=1,\n",
    "               buffer_size=300000, batch_size=256, gamma=0.98, tau=0.02,\n",
    "               train_freq=64, gradient_steps=64, ent_coef='auto', learning_rate=7.3e-4, \n",
    "               learning_starts=10000, policy_kwargs=dict(net_arch=[256, 256], log_std_init=-3),\n",
    "               use_sde=True)\n",
    "model.learn(total_timesteps=1e6)\n",
    "model.save(\"./ant_expert\")"
   ]
  }
 ],
 "metadata": {
  "kernelspec": {
   "display_name": "py38",
   "language": "python",
   "name": "python3"
  },
  "language_info": {
   "codemirror_mode": {
    "name": "ipython",
    "version": 3
   },
   "file_extension": ".py",
   "mimetype": "text/x-python",
   "name": "python",
   "nbconvert_exporter": "python",
   "pygments_lexer": "ipython3",
   "version": "3.8.20"
  }
 },
 "nbformat": 4,
 "nbformat_minor": 2
}
